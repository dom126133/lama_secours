{
 "cells": [
  {
   "cell_type": "code",
   "execution_count": 33,
   "id": "f8394618-ca59-47ea-bb51-2e651060bac3",
   "metadata": {},
   "outputs": [],
   "source": [
    "from zipfile import ZipFile\n",
    "import json\n",
    "import pandas as pd"
   ]
  },
  {
   "cell_type": "code",
   "execution_count": 34,
   "id": "9846dd40-bd16-4231-9234-19a38678bdf2",
   "metadata": {},
   "outputs": [],
   "source": [
    "from reportlab.pdfgen import canvas\n",
    "from reportlab.platypus import *\n",
    "from reportlab.lib import colors\n",
    "from reportlab.lib.pagesizes import A4\n",
    "import pandas as pd\n",
    "import numpy as np"
   ]
  },
  {
   "cell_type": "code",
   "execution_count": 35,
   "id": "38aa9bbf-40e0-4c16-92e2-df2080325862",
   "metadata": {},
   "outputs": [],
   "source": [
    "shifts = '../shift-definitions/shift-definitions_23-12-2023_16-39-07.zip'"
   ]
  },
  {
   "cell_type": "code",
   "execution_count": 36,
   "id": "c63ad887-7a89-434c-b34d-b97267411c34",
   "metadata": {},
   "outputs": [],
   "source": [
    "with ZipFile(shifts, 'r') as zipfile:\n",
    "    name_list = zipfile.namelist()\n",
    "    with zipfile.open('G1_GVE_22-12-2023_08-29-53.json') as shift:\n",
    "        #print(shift)\n",
    "        shift_task_list = json.load(shift)\n",
    "        #print(shift_task_list)"
   ]
  },
  {
   "cell_type": "code",
   "execution_count": 37,
   "id": "542d01d2-270c-459c-8406-3a2955af67a7",
   "metadata": {},
   "outputs": [
    {
     "data": {
      "text/plain": [
       "['A4_GVE_05-12-2023_15-10-14.json',\n",
       " 'ZUE-Test_15-11-2023_16-11-11.json',\n",
       " 'gve-00-12_07-11-2023_17-07-14.json',\n",
       " 'gve-12-00_07-11-2023_17-13-47.json',\n",
       " 'A1.ZUE.test_11-12-2023_14-37-34.json',\n",
       " 'G3_GVE_05-12-2023_15-02-25.json',\n",
       " 'G4_GVE_05-12-2023_15-03-57.json',\n",
       " 'O1_GVE_06-12-2023_08-40-35.json',\n",
       " 'A2_GVE_05-12-2023_15-09-37.json',\n",
       " 'G1_LOM_15-12-2023_07-37-05.json',\n",
       " 'G2_LOM_15-12-2023_08-01-20.json',\n",
       " 'G1_ZUE_11-12-2023_16-44-03.json',\n",
       " 'G1_GVE_22-12-2023_08-29-53.json']"
      ]
     },
     "execution_count": 37,
     "metadata": {},
     "output_type": "execute_result"
    }
   ],
   "source": [
    "name_list"
   ]
  },
  {
   "cell_type": "code",
   "execution_count": 38,
   "id": "e0791035-8d64-4352-a6f3-c07cf33fe5b6",
   "metadata": {},
   "outputs": [],
   "source": [
    "tasks = pd.json_normalize(shift_task_list['taskDefinitions'])"
   ]
  },
  {
   "cell_type": "code",
   "execution_count": 39,
   "id": "2ac861eb-8d2e-4c24-b82e-e26027157af1",
   "metadata": {},
   "outputs": [],
   "source": [
    "tasks.set_index('id', inplace=True)"
   ]
  },
  {
   "cell_type": "code",
   "execution_count": 40,
   "id": "8801c14a-5577-4a6f-911e-cbeac56203f1",
   "metadata": {},
   "outputs": [
    {
     "data": {
      "text/plain": [
       "array(['version', 'name', 'description', 'unit', 'intendedStartTime',\n",
       "       'allowedStartTime', 'zoneId', 'duration', 'onDemand', 'commands',\n",
       "       'auditData.createdBy', 'auditData.createdTime',\n",
       "       'auditData.lastModifiedBy', 'auditData.lastModifiedTime',\n",
       "       'schedule.startDate', 'schedule.endDate', 'schedule.expression'],\n",
       "      dtype=object)"
      ]
     },
     "execution_count": 40,
     "metadata": {},
     "output_type": "execute_result"
    }
   ],
   "source": [
    "tasks.columns.values"
   ]
  },
  {
   "cell_type": "code",
   "execution_count": 41,
   "id": "ded9fad6-e60f-4bc9-ae5b-26a883a20fca",
   "metadata": {},
   "outputs": [],
   "source": [
    "tasks_cleaned = tasks.drop(['version', \\\n",
    "                            'name',\\\n",
    "                            'unit', \\\n",
    "                            'onDemand',\\\n",
    "                            'allowedStartTime',\\\n",
    "                            'duration', \\\n",
    "                            'commands', \\\n",
    "                            'schedule.startDate', \\\n",
    "                            'schedule.endDate', \\\n",
    "                            'schedule.expression', \\\n",
    "                            'auditData.createdBy', \\\n",
    "                            'auditData.createdTime', \\\n",
    "                            'auditData.lastModifiedBy', \\\n",
    "                            'auditData.lastModifiedTime'], axis=1)"
   ]
  },
  {
   "cell_type": "code",
   "execution_count": 42,
   "id": "212050a9-4cd8-4f8e-98a7-c3d3b59cb2fd",
   "metadata": {},
   "outputs": [
    {
     "data": {
      "text/plain": [
       "array(['description', 'intendedStartTime', 'zoneId'], dtype=object)"
      ]
     },
     "execution_count": 42,
     "metadata": {},
     "output_type": "execute_result"
    }
   ],
   "source": [
    "tasks_cleaned.columns.values"
   ]
  },
  {
   "cell_type": "code",
   "execution_count": 43,
   "id": "4d7cec26-eb6f-42b5-9f2b-7c9139227174",
   "metadata": {},
   "outputs": [
    {
     "data": {
      "text/html": [
       "<div>\n",
       "<style scoped>\n",
       "    .dataframe tbody tr th:only-of-type {\n",
       "        vertical-align: middle;\n",
       "    }\n",
       "\n",
       "    .dataframe tbody tr th {\n",
       "        vertical-align: top;\n",
       "    }\n",
       "\n",
       "    .dataframe thead th {\n",
       "        text-align: right;\n",
       "    }\n",
       "</style>\n",
       "<table border=\"1\" class=\"dataframe\">\n",
       "  <thead>\n",
       "    <tr style=\"text-align: right;\">\n",
       "      <th></th>\n",
       "      <th>description</th>\n",
       "      <th>intendedStartTime</th>\n",
       "      <th>zoneId</th>\n",
       "    </tr>\n",
       "    <tr>\n",
       "      <th>id</th>\n",
       "      <th></th>\n",
       "      <th></th>\n",
       "      <th></th>\n",
       "    </tr>\n",
       "  </thead>\n",
       "  <tbody>\n",
       "    <tr>\n",
       "      <th>a22c49bb-2c99-4275-a4e7-057033391710</th>\n",
       "      <td>Rappels : Vent et Neige</td>\n",
       "      <td>06:15:00</td>\n",
       "      <td>Europe/Zurich</td>\n",
       "    </tr>\n",
       "    <tr>\n",
       "      <th>a06e44df-d48c-479c-a48e-2971187792af</th>\n",
       "      <td>Consulter APW blog, main courante, mise à jour...</td>\n",
       "      <td>06:15:00</td>\n",
       "      <td>Europe/Zurich</td>\n",
       "    </tr>\n",
       "    <tr>\n",
       "      <th>c6c99e22-dc61-461a-b9fe-3788f5074999</th>\n",
       "      <td>Bulletin Radio RTS 07h (envoi avant 06h45)</td>\n",
       "      <td>06:20:00</td>\n",
       "      <td>Europe/Zurich</td>\n",
       "    </tr>\n",
       "    <tr>\n",
       "      <th>35e24943-bef5-44ba-93c7-ab4d11b7c797</th>\n",
       "      <td>Vérifier présence tour Clim à l'horaire (sinon...</td>\n",
       "      <td>06:25:00</td>\n",
       "      <td>Europe/Zurich</td>\n",
       "    </tr>\n",
       "    <tr>\n",
       "      <th>66f5dd0c-8860-4c6c-82cf-ef0885b754f5</th>\n",
       "      <td>Mise a jour bulletin général</td>\n",
       "      <td>06:30:00</td>\n",
       "      <td>Europe/Zurich</td>\n",
       "    </tr>\n",
       "    <tr>\n",
       "      <th>c9262502-abb3-48d6-b9c8-c19ff1964775</th>\n",
       "      <td>Evaluer le besoin d'un tour R et appeler à 7h ...</td>\n",
       "      <td>06:50:00</td>\n",
       "      <td>Europe/Zurich</td>\n",
       "    </tr>\n",
       "    <tr>\n",
       "      <th>87ecef1d-70b8-4d07-8c6c-12dd927f5ac6</th>\n",
       "      <td>Probabilités d'orage pour le briefing Skyguide</td>\n",
       "      <td>07:00:00</td>\n",
       "      <td>Europe/Zurich</td>\n",
       "    </tr>\n",
       "    <tr>\n",
       "      <th>f619906a-a02a-4d5a-b287-82bb441e44dc</th>\n",
       "      <td>Proposition nouvelle neige SLF -&gt; 3 périodes c...</td>\n",
       "      <td>09:20:00</td>\n",
       "      <td>Europe/Zurich</td>\n",
       "    </tr>\n",
       "  </tbody>\n",
       "</table>\n",
       "</div>"
      ],
      "text/plain": [
       "                                                                            description  \\\n",
       "id                                                                                        \n",
       "a22c49bb-2c99-4275-a4e7-057033391710                            Rappels : Vent et Neige   \n",
       "a06e44df-d48c-479c-a48e-2971187792af  Consulter APW blog, main courante, mise à jour...   \n",
       "c6c99e22-dc61-461a-b9fe-3788f5074999         Bulletin Radio RTS 07h (envoi avant 06h45)   \n",
       "35e24943-bef5-44ba-93c7-ab4d11b7c797  Vérifier présence tour Clim à l'horaire (sinon...   \n",
       "66f5dd0c-8860-4c6c-82cf-ef0885b754f5                       Mise a jour bulletin général   \n",
       "c9262502-abb3-48d6-b9c8-c19ff1964775  Evaluer le besoin d'un tour R et appeler à 7h ...   \n",
       "87ecef1d-70b8-4d07-8c6c-12dd927f5ac6     Probabilités d'orage pour le briefing Skyguide   \n",
       "f619906a-a02a-4d5a-b287-82bb441e44dc  Proposition nouvelle neige SLF -> 3 périodes c...   \n",
       "\n",
       "                                     intendedStartTime         zoneId  \n",
       "id                                                                     \n",
       "a22c49bb-2c99-4275-a4e7-057033391710          06:15:00  Europe/Zurich  \n",
       "a06e44df-d48c-479c-a48e-2971187792af          06:15:00  Europe/Zurich  \n",
       "c6c99e22-dc61-461a-b9fe-3788f5074999          06:20:00  Europe/Zurich  \n",
       "35e24943-bef5-44ba-93c7-ab4d11b7c797          06:25:00  Europe/Zurich  \n",
       "66f5dd0c-8860-4c6c-82cf-ef0885b754f5          06:30:00  Europe/Zurich  \n",
       "c9262502-abb3-48d6-b9c8-c19ff1964775          06:50:00  Europe/Zurich  \n",
       "87ecef1d-70b8-4d07-8c6c-12dd927f5ac6          07:00:00  Europe/Zurich  \n",
       "f619906a-a02a-4d5a-b287-82bb441e44dc          09:20:00  Europe/Zurich  "
      ]
     },
     "execution_count": 43,
     "metadata": {},
     "output_type": "execute_result"
    }
   ],
   "source": [
    "tasks_cleaned"
   ]
  },
  {
   "cell_type": "code",
   "execution_count": 59,
   "id": "4c27325a-0c99-416f-a2e9-2ca18b249308",
   "metadata": {},
   "outputs": [],
   "source": [
    "tasks_ordered = tasks_cleaned.loc[:,['intendedStartTime','zoneId','description']]"
   ]
  },
  {
   "cell_type": "code",
   "execution_count": 60,
   "id": "55832f8c-0686-40af-9103-4cf17728ab9d",
   "metadata": {},
   "outputs": [],
   "source": [
    "doc = SimpleDocTemplate(\"table.pdf\", pagesize=A4)"
   ]
  },
  {
   "cell_type": "code",
   "execution_count": 61,
   "id": "64f97ba8-2f8a-47ba-93f1-9466db6ce2d4",
   "metadata": {},
   "outputs": [
    {
     "data": {
      "text/plain": [
       "Table(\n",
       " rowHeights=[None, None, None, None, None, None, None, None],\n",
       " colWidths=[None, None, None],\n",
       "[['06:15:00', 'Europe/Zurich', 'Rappels : Vent et Neige'],\n",
       "   ['06:15:00',\n",
       "    'Europe/Zurich',\n",
       "    'Consulter APW blog, main courante, mise à jour produits et mails du compte '\n",
       "    'cmg'],\n",
       "   ['06:20:00', 'Europe/Zurich', 'Bulletin Radio RTS 07h (envoi avant 06h45)'],\n",
       "   ['06:25:00',\n",
       "    'Europe/Zurich',\n",
       "    \"Vérifier présence tour Clim à l'horaire (sinon, appels clim pris en salle \"\n",
       "    'de prévision)'],\n",
       "   ['06:30:00', 'Europe/Zurich', 'Mise a jour bulletin général'],\n",
       "   ['06:50:00',\n",
       "    'Europe/Zurich',\n",
       "    \"Evaluer le besoin d'un tour R et appeler à 7h au besoin\"],\n",
       "   ['07:00:00',\n",
       "    'Europe/Zurich',\n",
       "    \"Probabilités d'orage pour le briefing Skyguide\"],\n",
       "   ['09:20:00',\n",
       "    'Europe/Zurich',\n",
       "    'Proposition nouvelle neige SLF -> 3 périodes consécutives de 24 heures']]\n",
       ") # end table"
      ]
     },
     "execution_count": 61,
     "metadata": {},
     "output_type": "execute_result"
    }
   ],
   "source": [
    "t1 = Table(np.array(tasks_ordered).tolist())\n",
    "t1"
   ]
  },
  {
   "cell_type": "code",
   "execution_count": 62,
   "id": "9b269985-7be4-4722-bb57-b4dac76dd2d1",
   "metadata": {},
   "outputs": [],
   "source": [
    "doc = SimpleDocTemplate(\"table.pdf\", pagesize=A4)"
   ]
  },
  {
   "cell_type": "code",
   "execution_count": 63,
   "id": "16bd2270-37d7-49a0-98e6-4a6f2f2b3c5d",
   "metadata": {},
   "outputs": [],
   "source": [
    "element = []\n",
    "element.append(t1)\n",
    "doc.build(element)"
   ]
  },
  {
   "cell_type": "code",
   "execution_count": null,
   "id": "d9fae52d-8638-436f-8773-a310d17090f9",
   "metadata": {},
   "outputs": [],
   "source": []
  }
 ],
 "metadata": {
  "kernelspec": {
   "display_name": "Python 3 (ipykernel)",
   "language": "python",
   "name": "python3"
  },
  "language_info": {
   "codemirror_mode": {
    "name": "ipython",
    "version": 3
   },
   "file_extension": ".py",
   "mimetype": "text/x-python",
   "name": "python",
   "nbconvert_exporter": "python",
   "pygments_lexer": "ipython3",
   "version": "3.11.7"
  }
 },
 "nbformat": 4,
 "nbformat_minor": 5
}
