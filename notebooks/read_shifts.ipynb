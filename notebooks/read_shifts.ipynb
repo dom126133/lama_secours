{
 "cells": [
  {
   "cell_type": "code",
   "execution_count": 1,
   "id": "f8394618-ca59-47ea-bb51-2e651060bac3",
   "metadata": {},
   "outputs": [],
   "source": [
    "import json\n",
    "import pandas as pd"
   ]
  },
  {
   "cell_type": "code",
   "execution_count": 2,
   "id": "38aa9bbf-40e0-4c16-92e2-df2080325862",
   "metadata": {},
   "outputs": [],
   "source": [
    "shift_G1_GVE = '../G1_GVE.json'"
   ]
  },
  {
   "cell_type": "code",
   "execution_count": 3,
   "id": "c63ad887-7a89-434c-b34d-b97267411c34",
   "metadata": {},
   "outputs": [],
   "source": [
    "with open(shift_G1_GVE, 'r') as file:\n",
    "    shift_task_list = json.load(file)"
   ]
  },
  {
   "cell_type": "code",
   "execution_count": null,
   "id": "2b407dac-b675-4e46-8608-e8eaa2251681",
   "metadata": {},
   "outputs": [],
   "source": [
    "print(shift_task_list['shiftDefinition']['taskDefinitionIds'])"
   ]
  },
  {
   "cell_type": "code",
   "execution_count": null,
   "id": "b1a3c097-3e77-46a2-bc82-9f69e426eb4a",
   "metadata": {},
   "outputs": [],
   "source": [
    "print(shift_task_list['taskDefinitions'][1]['id'])"
   ]
  },
  {
   "cell_type": "code",
   "execution_count": null,
   "id": "6b237f24-05a6-4700-bec9-c7b861146f53",
   "metadata": {},
   "outputs": [],
   "source": [
    "if shift_task_list['taskDefinitions'][1]['id'] in shift_task_list['shiftDefinition']['taskDefinitionIds']:\n",
    "    print('In')\n",
    "else:\n",
    "    print('No')"
   ]
  },
  {
   "cell_type": "code",
   "execution_count": 4,
   "id": "48a7863f-d591-4ff5-9fae-de76497c26a5",
   "metadata": {},
   "outputs": [
    {
     "name": "stdout",
     "output_type": "stream",
     "text": [
      "Id: a22c49bb-2c99-4275-a4e7-057033391710, Name: G1_GVE-0600\n",
      "Id: a06e44df-d48c-479c-a48e-2971187792af, Name: G1_GVE-0615\n",
      "Id: c6c99e22-dc61-461a-b9fe-3788f5074999, Name: G1_GVE-0620\n",
      "Id: 35e24943-bef5-44ba-93c7-ab4d11b7c797, Name: G1_GVE-0625\n",
      "Id: 66f5dd0c-8860-4c6c-82cf-ef0885b754f5, Name: G1_GVE-0630\n",
      "Id: c9262502-abb3-48d6-b9c8-c19ff1964775, Name: G1_GVE-0650\n",
      "Id: 87ecef1d-70b8-4d07-8c6c-12dd927f5ac6, Name: G1_GVE-0700\n",
      "Id: f619906a-a02a-4d5a-b287-82bb441e44dc, Name: G1_GVE_0920\n"
     ]
    }
   ],
   "source": [
    "for shift in shift_task_list['taskDefinitions']:\n",
    "    print(f\"Id: {shift['id']}, Name: {shift['name']}\")"
   ]
  },
  {
   "cell_type": "code",
   "execution_count": 35,
   "id": "9faeeef6-106e-4333-848e-08ec621c7cb6",
   "metadata": {},
   "outputs": [],
   "source": [
    "tasks = pd.json_normalize(shift_task_list['taskDefinitions'])"
   ]
  },
  {
   "cell_type": "code",
   "execution_count": 36,
   "id": "a781b823-b8a3-4d73-b058-6a33190bf8eb",
   "metadata": {},
   "outputs": [],
   "source": [
    "tasks.set_index('id', inplace=True)"
   ]
  },
  {
   "cell_type": "code",
   "execution_count": 37,
   "id": "1f57a48a-cdc2-4770-9b48-157622749132",
   "metadata": {},
   "outputs": [],
   "source": [
    "tasks_cleaned = tasks.drop(['version', \\\n",
    "                            'name',\\\n",
    "                            'unit', \\\n",
    "                            'onDemand',\\\n",
    "                            'allowedStartTime',\\\n",
    "                            'duration', \\\n",
    "                            #'commands', \\\n",
    "                            'schedule.startDate', \\\n",
    "                            'schedule.endDate', \\\n",
    "                            'schedule.expression', \\\n",
    "                            'auditData.createdBy.extId', \\\n",
    "                            'auditData.createdBy.displayName', \\\n",
    "                            'auditData.createdBy.email', \\\n",
    "                            'auditData.createdBy.username', \\\n",
    "                            'auditData.createdTime', \\\n",
    "                            'auditData.lastModifiedBy.extId', \\\n",
    "                            'auditData.lastModifiedBy.displayName', \\\n",
    "                            'auditData.lastModifiedBy.email', \\\n",
    "                            'auditData.lastModifiedBy.username', \\\n",
    "                            'auditData.lastModifiedTime'], axis=1)"
   ]
  },
  {
   "cell_type": "code",
   "execution_count": 38,
   "id": "f802bfc6-77ff-4a57-98e6-69f33b0662f4",
   "metadata": {},
   "outputs": [],
   "source": [
    "with open('G1_GVE.csv', 'w') as file:\n",
    "    tasks_cleaned.to_csv(file, sep=';')"
   ]
  },
  {
   "cell_type": "code",
   "execution_count": null,
   "id": "e9076fcb-e3b8-4a35-b3c5-7394f678eeab",
   "metadata": {},
   "outputs": [],
   "source": []
  }
 ],
 "metadata": {
  "kernelspec": {
   "display_name": "Python 3 (ipykernel)",
   "language": "python",
   "name": "python3"
  },
  "language_info": {
   "codemirror_mode": {
    "name": "ipython",
    "version": 3
   },
   "file_extension": ".py",
   "mimetype": "text/x-python",
   "name": "python",
   "nbconvert_exporter": "python",
   "pygments_lexer": "ipython3",
   "version": "3.11.5"
  }
 },
 "nbformat": 4,
 "nbformat_minor": 5
}
