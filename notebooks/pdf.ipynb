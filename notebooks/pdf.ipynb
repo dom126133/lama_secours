{
 "cells": [
  {
   "cell_type": "code",
   "execution_count": 1,
   "id": "db378cc7-ce2b-4056-9479-b907c46094ab",
   "metadata": {},
   "outputs": [],
   "source": [
    "from reportlab.pdfgen import canvas\n",
    "from reportlab.platypus import *\n",
    "from reportlab.lib import colors\n",
    "from reportlab.lib.pagesizes import letter\n",
    "import pandas as pd\n",
    "import numpy as np"
   ]
  },
  {
   "cell_type": "code",
   "execution_count": 2,
   "id": "bfd36d0e-b628-4da0-9f31-6e23ff70e004",
   "metadata": {},
   "outputs": [],
   "source": [
    "data = {'Account Name': ['ACCOUNT PAYABLE', 'PAGIBIG LOAN PAYABLE','PREPAID TAX']\n",
    "        ,'': [-0.1, -0.2,-0.3]}\n",
    "summary_debit = pd.DataFrame(data=data)"
   ]
  },
  {
   "cell_type": "code",
   "execution_count": 3,
   "id": "b2318d61-451a-4abb-86fc-8bd8d23fc55a",
   "metadata": {},
   "outputs": [],
   "source": [
    "colwidths = 50\n",
    "GRID_STYLE = TableStyle(\n",
    "            [('GRID', (0, 0), (-1, -1), 0.25, colors.pink),\n",
    "            ('ALIGN', (1, 0), (-1, -1), 'RIGHT')])"
   ]
  },
  {
   "cell_type": "code",
   "execution_count": 4,
   "id": "c94891d4-29ef-4ba8-bd99-d6478ae57b72",
   "metadata": {},
   "outputs": [],
   "source": [
    "#t1 = Table([summary_debit.iloc[:,1].tolist(),summary_debit.iloc[:,0].tolist()]);\n",
    "t1 = Table(np.array(summary_debit).tolist());\n",
    "doc = SimpleDocTemplate(\"table.pdf\", pagesize=a4)"
   ]
  },
  {
   "cell_type": "code",
   "execution_count": 6,
   "id": "5b48359a-91f3-4dc9-8605-366800ab7133",
   "metadata": {},
   "outputs": [
    {
     "data": {
      "text/plain": [
       "Table(\n",
       " rowHeights=[18, 18, 18],\n",
       " colWidths=[131.5, 29.23],\n",
       "[['ACCOUNT PAYABLE', -0.1],\n",
       "   ['PAGIBIG LOAN PAYABLE', -0.2],\n",
       "   ['PREPAID TAX', -0.3]]\n",
       ") # end table"
      ]
     },
     "execution_count": 6,
     "metadata": {},
     "output_type": "execute_result"
    }
   ],
   "source": [
    "t1"
   ]
  },
  {
   "cell_type": "code",
   "execution_count": 5,
   "id": "2edd512a-35d5-42c0-a73a-ecfce3342cf2",
   "metadata": {},
   "outputs": [],
   "source": [
    "element = []\n",
    "element.append(t1)\n",
    "doc.build(element)"
   ]
  },
  {
   "cell_type": "code",
   "execution_count": null,
   "id": "cf95c05b-27ea-42a1-9a7c-7aededc335e7",
   "metadata": {},
   "outputs": [],
   "source": []
  }
 ],
 "metadata": {
  "kernelspec": {
   "display_name": "Python 3 (ipykernel)",
   "language": "python",
   "name": "python3"
  },
  "language_info": {
   "codemirror_mode": {
    "name": "ipython",
    "version": 3
   },
   "file_extension": ".py",
   "mimetype": "text/x-python",
   "name": "python",
   "nbconvert_exporter": "python",
   "pygments_lexer": "ipython3",
   "version": "3.11.7"
  }
 },
 "nbformat": 4,
 "nbformat_minor": 5
}
